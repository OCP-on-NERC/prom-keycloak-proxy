{
 "cells": [
  {
   "cell_type": "markdown",
   "metadata": {},
   "source": [
    "# How this project was created"
   ]
  },
  {
   "cell_type": "markdown",
   "metadata": {},
   "source": [
    "## Create a directory for the prom-keycloak-proxy project"
   ]
  },
  {
   "cell_type": "code",
   "execution_count": null,
   "metadata": {
    "vscode": {
     "languageId": "shellscript"
    }
   },
   "outputs": [],
   "source": [
    "install -d ~/.local/src/prom-keycloak-proxy\n",
    "cd ~/.local/src/prom-keycloak-proxy\n",
    "echo DONE"
   ]
  },
  {
   "cell_type": "markdown",
   "metadata": {},
   "source": [
    "## Initialize the go project"
   ]
  },
  {
   "cell_type": "code",
   "execution_count": null,
   "metadata": {
    "vscode": {
     "languageId": "shellscript"
    }
   },
   "outputs": [],
   "source": [
    "go mod init github.com/OCP-on-NERC/prom-keycloak-proxy\n",
    "echo DONE"
   ]
  },
  {
   "cell_type": "markdown",
   "metadata": {},
   "source": [
    "## Get go dependencies"
   ]
  },
  {
   "cell_type": "code",
   "execution_count": null,
   "metadata": {
    "vscode": {
     "languageId": "shellscript"
    }
   },
   "outputs": [],
   "source": [
    "go get github.com/Nerzal/gocloak/v13\n",
    "go get github.com/gorilla/mux\n",
    "echo DONE"
   ]
  },
  {
   "cell_type": "markdown",
   "metadata": {},
   "source": [
    "## Develop the code"
   ]
  },
  {
   "cell_type": "markdown",
   "metadata": {},
   "source": [
    "Create an errors package and HTTP errors"
   ]
  },
  {
   "cell_type": "code",
   "execution_count": null,
   "metadata": {
    "vscode": {
     "languageId": "shellscript"
    }
   },
   "outputs": [],
   "source": [
    "install -d src/errors/\n",
    "\n",
    "cat <<'EOF' > src/errors/httpError.go\n",
    "// Thanks to okemechris on GitHub for the sample code. \n",
    "// See: https://github.com/okemechris/simplego-api/tree/main\n",
    "\n",
    "package errors\n",
    "\n",
    "type HttpError struct {\n",
    "    Code int `json:\"code\"`\n",
    "    Error string `json:\"error\"`\n",
    "    Message string `json:\"message\"`\n",
    "}\n",
    "\n",
    "func UnauthorizedError()  HttpError{\n",
    "    return HttpError{\n",
    "        401,\n",
    "        \"Unauthorized\",\n",
    "        \"You are not authorized to access this resource\",\n",
    "    }\n",
    "\n",
    "}\n",
    "\n",
    "func NotFoundError()  *HttpError{\n",
    "    return &HttpError{\n",
    "        404,\n",
    "        \"Not found\",\n",
    "        \"The requested resource was not found\",\n",
    "    }\n",
    "\n",
    "}\n",
    "\n",
    "func DataAccessLayerError(message string)  *HttpError{\n",
    "    return &HttpError{\n",
    "        400,\n",
    "        \"Data access error\",\n",
    "        message,\n",
    "    }\n",
    "\n",
    "}\n",
    "\n",
    "func BadRequestError(message string)  *HttpError{\n",
    "    return &HttpError{\n",
    "        400,\n",
    "        \"Bad Request\",\n",
    "        message,\n",
    "    }\n",
    "\n",
    "}\n",
    "EOF\n",
    "echo DONE"
   ]
  },
  {
   "cell_type": "markdown",
   "metadata": {},
   "source": [
    "Create a Keycloak Authentication and Authorization service"
   ]
  },
  {
   "cell_type": "code",
   "execution_count": null,
   "metadata": {
    "vscode": {
     "languageId": "shellscript"
    }
   },
   "outputs": [],
   "source": [
    "install -d src/services/\n",
    "\n",
    "cat <<'EOF' > src/services/authService.go\n",
    "// Thanks to okemechris on GitHub for the sample code. \n",
    "// See: https://github.com/okemechris/simplego-api/tree/main\n",
    "\n",
    "package services\n",
    "\n",
    "import (\n",
    "    \"os\"\n",
    "    \"encoding/json\"\n",
    "    \"net/http\"\n",
    "    \"github.com/OCP-on-NERC/prom-keycloak-proxy/src/errors\"\n",
    "    \"strings\"\n",
    "    \"strconv\"\n",
    "    \"crypto/tls\"\n",
    "    \"fmt\"\n",
    "    \"context\"\n",
    "\n",
    "    \"github.com/Nerzal/gocloak/v13\"\n",
    "    _ \"github.com/gorilla/mux\"\n",
    ")\n",
    "\n",
    "type LoginResponse struct {\n",
    "    AccessToken string `json:\"access_token\"`\n",
    "    Title       string `json:\"Title\"`\n",
    "    Description string `json:\"Description\"`\n",
    "}\n",
    "\n",
    "var (\n",
    "    clientId             = os.Getenv(\"AUTH_CLIENT_ID\")\n",
    "    clientSecret         = os.Getenv(\"AUTH_CLIENT_SECRET\")\n",
    "    realm                = os.Getenv(\"AUTH_REALM\")\n",
    "    auth_base_url        = os.Getenv(\"AUTH_BASE_URL\")\n",
    "    auth_skip_verify, _  = strconv.ParseBool(os.Getenv(\"AUTH_SKIP_VERIFY\"))\n",
    ")\n",
    "\n",
    "func InitializeOauthServer() *gocloak.GoCloak {\n",
    "    client := gocloak.NewClient(auth_base_url)\n",
    "    if auth_skip_verify {\n",
    "        restyClient := client.RestyClient()\n",
    "        restyClient.SetTLSClientConfig(&tls.Config{ InsecureSkipVerify: true })\n",
    "    }\n",
    "    return client\n",
    "}\n",
    "\n",
    "func Protect(client *gocloak.GoCloak, next http.Handler) http.Handler {\n",
    "\n",
    "    return http.HandlerFunc(func(w http.ResponseWriter, r *http.Request) {\n",
    "\n",
    "        authHeader := r.Header.Get(\"Authorization\")\n",
    "\n",
    "        if len(authHeader) < 1 {\n",
    "            w.WriteHeader(401)\n",
    "            json.NewEncoder(w).Encode(errors.UnauthorizedError())\n",
    "            return\n",
    "        }\n",
    "\n",
    "        accessToken := strings.Split(authHeader, \" \")[1]\n",
    "\n",
    "        rptResult, err := client.RetrospectToken(r.Context(), accessToken, clientId, clientSecret, realm)\n",
    "\n",
    "        if err != nil {\n",
    "            w.WriteHeader(400)\n",
    "            json.NewEncoder(w).Encode(errors.BadRequestError(err.Error()))\n",
    "            return\n",
    "        }\n",
    "\n",
    "        isTokenValid := *rptResult.Active\n",
    "\n",
    "        if !isTokenValid {\n",
    "            w.WriteHeader(401)\n",
    "            json.NewEncoder(w).Encode(errors.UnauthorizedError())\n",
    "            return\n",
    "        }\n",
    "        rpp, err := client.GetRequestingPartyPermissions(\n",
    "            context.Background(),\n",
    "            accessToken,\n",
    "            realm,\n",
    "            gocloak.RequestingPartyTokenOptions{\n",
    "                Audience: gocloak.StringP(clientId),\n",
    "                Permissions: &[]string{\n",
    "                    \"cluster#nerc-ocp-prod\",\n",
    "                    \"namespace#all namespaces\",\n",
    "                },\n",
    "            },\n",
    "        )\n",
    "        if err != nil {\n",
    "            w.WriteHeader(401)\n",
    "            json.NewEncoder(w).Encode(errors.UnauthorizedError())\n",
    "            return\n",
    "        }\n",
    "        out, err := json.Marshal(*rpp)\n",
    "        if err != nil {\n",
    "            w.WriteHeader(400)\n",
    "            json.NewEncoder(w).Encode(errors.BadRequestError(err.Error()))\n",
    "            return\n",
    "        }\n",
    "        fmt.Print(string(out))\n",
    "\n",
    "        // Our middleware logic goes here...\n",
    "        next.ServeHTTP(w, r)\n",
    "    })\n",
    "}\n",
    "EOF\n",
    "echo DONE"
   ]
  },
  {
   "cell_type": "markdown",
   "metadata": {},
   "source": [
    "Create a Prometheus service"
   ]
  },
  {
   "cell_type": "code",
   "execution_count": null,
   "metadata": {
    "vscode": {
     "languageId": "shellscript"
    }
   },
   "outputs": [],
   "source": [
    "cat <<'EOF' > src/services/promService.go\n",
    "// Thanks to okemechris on GitHub for the sample code. \n",
    "// See: https://github.com/okemechris/simplego-api/tree/main\n",
    "\n",
    "package services\n",
    "\n",
    "import (\n",
    "    \"encoding/json\"\n",
    "    \"net/http\"\n",
    "    \"github.com/OCP-on-NERC/prom-keycloak-proxy/src/errors\"\n",
    ")\n",
    "\n",
    "func PromQuery(w http.ResponseWriter, r *http.Request) {\n",
    "    data := new(errors.HttpError)\n",
    "    json.NewEncoder(w).Encode(&data)\n",
    "}\n",
    "EOF\n",
    "echo DONE"
   ]
  },
  {
   "cell_type": "markdown",
   "metadata": {},
   "source": [
    "Create a controllers package and controller interface"
   ]
  },
  {
   "cell_type": "code",
   "execution_count": null,
   "metadata": {
    "vscode": {
     "languageId": "shellscript"
    }
   },
   "outputs": [],
   "source": [
    "install -d src/controllers/\n",
    "\n",
    "cat <<'EOF' > src/controllers/controller.go\n",
    "// Thanks to okemechris on GitHub for the sample code. \n",
    "// See: https://github.com/okemechris/simplego-api/tree/main\n",
    "\n",
    "package controllers\n",
    "\n",
    "import (\n",
    "    \"github.com/gorilla/mux\"\n",
    "    \"github.com/Nerzal/gocloak/v13\"\n",
    ")\n",
    "\n",
    "type Controller interface {\n",
    "    RegisterRoutes(client *gocloak.GoCloak, router *mux.Router)\n",
    "}\n",
    "EOF\n",
    "echo DONE"
   ]
  },
  {
   "cell_type": "markdown",
   "metadata": {},
   "source": [
    "Create a Prometheus Controller to define Prometheus Routes"
   ]
  },
  {
   "cell_type": "code",
   "execution_count": null,
   "metadata": {
    "vscode": {
     "languageId": "shellscript"
    }
   },
   "outputs": [],
   "source": [
    "cat <<'EOF' > src/controllers/promController.go\n",
    "// Thanks to okemechris on GitHub for the sample code. \n",
    "// See: https://github.com/okemechris/simplego-api/tree/main\n",
    "\n",
    "package controllers\n",
    "import (\n",
    "    \"net/http\"\n",
    "    \"github.com/OCP-on-NERC/prom-keycloak-proxy/src/services\"\n",
    "    \"github.com/gorilla/mux\"\n",
    "    \"github.com/Nerzal/gocloak/v13\"\n",
    ")\n",
    "type PromController struct {}\n",
    "func (t PromController) RegisterRoutes(client *gocloak.GoCloak, router *mux.Router) {\n",
    "    router.Handle(\"/api/v1/query\",   services.Protect(client, http.HandlerFunc(services.PromQuery))).Methods(\"GET\")\n",
    "}\n",
    "EOF\n",
    "echo DONE"
   ]
  },
  {
   "cell_type": "markdown",
   "metadata": {},
   "source": [
    "### Create a main package"
   ]
  },
  {
   "cell_type": "code",
   "execution_count": null,
   "metadata": {
    "vscode": {
     "languageId": "shellscript"
    }
   },
   "outputs": [],
   "source": [
    "install -d src/\n",
    "\n",
    "cat <<'EOF' > src/main.go\n",
    "// Thanks to okemechris on GitHub for the sample code. \n",
    "// See: https://github.com/okemechris/simplego-api/tree/main\n",
    "\n",
    "package main\n",
    "import (\n",
    "    \"github.com/gorilla/mux\"\n",
    "    \"github.com/Nerzal/gocloak/v13\"\n",
    "    \"log\"\n",
    "    \"net/http\"\n",
    "    controllers \"github.com/OCP-on-NERC/prom-keycloak-proxy/src/controllers\"\n",
    "    services \"github.com/OCP-on-NERC/prom-keycloak-proxy/src/services\"\n",
    ")\n",
    "func main() {\n",
    "    run()\n",
    "}\n",
    "func run() {\n",
    "    client := services.InitializeOauthServer()\n",
    "    router := mux.NewRouter().StrictSlash(true)\n",
    "    router.Use(commonMiddleware)\n",
    "    registerRoutes(client, router)\n",
    "    log.Fatal(http.ListenAndServe(\":8081\", router))\n",
    "}\n",
    "func registerRoutes (client *gocloak.GoCloak, router *mux.Router){\n",
    "    registerControllerRoutes(client, controllers.PromController{}, router)\n",
    "}\n",
    "func registerControllerRoutes(client *gocloak.GoCloak, controller controllers.Controller, router *mux.Router) {\n",
    "    controller.RegisterRoutes(client, router)\n",
    "}\n",
    "func commonMiddleware(next http.Handler) http.Handler {\n",
    "    return http.HandlerFunc(func(w http.ResponseWriter, r *http.Request) {\n",
    "        w.Header().Add(\"Content-Type\", \"application/json\")\n",
    "        next.ServeHTTP(w, r)\n",
    "    })\n",
    "}\n",
    "EOF\n",
    "echo DONE"
   ]
  }
 ],
 "metadata": {
  "kernelspec": {
   "display_name": "Bash",
   "language": "bash",
   "name": "bash"
  },
  "language_info": {
   "codemirror_mode": "shell",
   "file_extension": ".sh",
   "mimetype": "text/x-sh",
   "name": "bash"
  }
 },
 "nbformat": 4,
 "nbformat_minor": 2
}
