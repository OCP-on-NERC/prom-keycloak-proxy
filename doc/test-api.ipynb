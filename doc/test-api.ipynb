{
 "cells": [
  {
   "cell_type": "markdown",
   "metadata": {},
   "source": [
    "# Test the running microservice"
   ]
  },
  {
   "cell_type": "markdown",
   "metadata": {},
   "source": [
    "## Get a current AUTH_TOKEN from Keycloak"
   ]
  },
  {
   "cell_type": "code",
   "execution_count": null,
   "metadata": {
    "vscode": {
     "languageId": "shellscript"
    }
   },
   "outputs": [],
   "source": [
    "AUTH_CLIENT_ID=ai4cloudops\n",
    "AUTH_CLIENT_SECRET=4EWeBbNyFUmtVjnRZY9LQZeZ4XwIVHKk\n",
    "AUTH_BASE_URL=https://keycloak.apps-crc.testing\n",
    "AUTH_REALM=NERC\n",
    "\n",
    "AUTH_TOKEN=$(curl -X POST -k -s -u \"$AUTH_CLIENT_ID:$AUTH_CLIENT_SECRET\" \\\n",
    "  -d \"grant_type=client_credentials\" \\\n",
    "  \"$AUTH_BASE_URL/realms/$AUTH_REALM/protocol/openid-connect/token\" \\\n",
    "  | jq -r \".access_token\")\n",
    "echo $AUTH_TOKEN\n",
    "echo DONE\n"
   ]
  },
  {
   "cell_type": "markdown",
   "metadata": {},
   "source": [
    "## Test the Prometheus Authentication"
   ]
  },
  {
   "cell_type": "code",
   "execution_count": null,
   "metadata": {
    "vscode": {
     "languageId": "shellscript"
    }
   },
   "outputs": [],
   "source": [
    "curl -i 'http://localhost:8080/api/v1/query' --get \\\n",
    "  --data-urlencode 'query=cluster:cpu_cores:sum{cluster=\"nerc-ocp-prod\"}' \\\n",
    "  -H \"Content-Type: application/json\" \\\n",
    "  -H \"Authorization: Bearer $AUTH_TOKEN\""
   ]
  },
  {
   "cell_type": "code",
   "execution_count": null,
   "metadata": {
    "vscode": {
     "languageId": "shellscript"
    }
   },
   "outputs": [],
   "source": []
  }
 ],
 "metadata": {
  "kernelspec": {
   "display_name": "Bash",
   "language": "bash",
   "name": "bash"
  },
  "language_info": {
   "codemirror_mode": "shell",
   "file_extension": ".sh",
   "mimetype": "text/x-sh",
   "name": "bash"
  }
 },
 "nbformat": 4,
 "nbformat_minor": 2
}
