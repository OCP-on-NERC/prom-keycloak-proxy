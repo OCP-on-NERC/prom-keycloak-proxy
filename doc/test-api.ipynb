{
 "cells": [
  {
   "cell_type": "markdown",
   "metadata": {},
   "source": [
    "# Test the running microservice"
   ]
  },
  {
   "cell_type": "markdown",
   "metadata": {},
   "source": [
    "## Get a current AUTH_TOKEN from Keycloak"
   ]
  },
  {
   "cell_type": "code",
   "execution_count": null,
   "metadata": {
    "vscode": {
     "languageId": "shellscript"
    }
   },
   "outputs": [],
   "source": [
    "PROXY_AUTH_BASE_URL=https://keycloak.apps-crc.testing\n",
    "PROXY_AUTH_REALM=NERC\n",
    "USER_AUTH_CLIENT_ID=ai4cloudops\n",
    "USER_AUTH_CLIENT_SECRET=Find the client secret for your USER_AUTH_CLIENT_ID above\n",
    "\n",
    "AUTH_TOKEN=$(curl -X POST -k -s -u \"$USER_AUTH_CLIENT_ID:$USER_AUTH_CLIENT_SECRET\" \\\n",
    "  -d \"grant_type=client_credentials\" \\\n",
    "  \"$PROXY_AUTH_BASE_URL/realms/$PROXY_AUTH_REALM/protocol/openid-connect/token\" \\\n",
    "  | jq -r \".access_token\")\n",
    "echo $AUTH_TOKEN\n",
    "echo DONE\n"
   ]
  },
  {
   "cell_type": "markdown",
   "metadata": {},
   "source": [
    "## Test the Prometheus Authentication"
   ]
  },
  {
   "cell_type": "code",
   "execution_count": null,
   "metadata": {
    "vscode": {
     "languageId": "shellscript"
    }
   },
   "outputs": [],
   "source": [
    "curl -i 'http://localhost:8080/api/v1/query' --get \\\n",
    "  --data-urlencode 'query=cluster:cpu_cores:sum{cluster=\"nerc-ocp-infra\"}' \\\n",
    "  -H \"Content-Type: application/json\" \\\n",
    "  -H \"Authorization: Bearer $AUTH_TOKEN\""
   ]
  }
 ],
 "metadata": {
  "kernelspec": {
   "display_name": "Bash",
   "language": "bash",
   "name": "bash"
  },
  "language_info": {
   "codemirror_mode": "shell",
   "file_extension": ".sh",
   "mimetype": "text/x-sh",
   "name": "bash"
  }
 },
 "nbformat": 4,
 "nbformat_minor": 2
}
